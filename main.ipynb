{
 "cells": [
  {
   "cell_type": "markdown",
   "metadata": {},
   "source": [
    "# Campaign Email Read Rate Inference and Prediction #"
   ]
  },
  {
   "cell_type": "markdown",
   "metadata": {},
   "source": [
    "## Preparation ##"
   ]
  },
  {
   "cell_type": "code",
   "execution_count": 1,
   "metadata": {},
   "outputs": [],
   "source": [
    "import pandas as pd\n",
    "import numpy as np\n",
    "import matplotlib.pyplot as plt\n",
    "%matplotlib inline\n",
    "\n",
    "# plotting\n",
    "import seaborn as sns\n",
    "from pdpbox.pdp import pdp_isolate, pdp_plot\n",
    "\n",
    "from sklearn.preprocessing import LabelEncoder, OneHotEncoder\n",
    "\n",
    "from sklearn.model_selection import train_test_split\n",
    "\n",
    "from sklearn.ensemble import RandomForestRegressor"
   ]
  },
  {
   "cell_type": "code",
   "execution_count": 2,
   "metadata": {},
   "outputs": [],
   "source": [
    "working_dir = \"...\"\n",
    "df = pd.read_csv(working_dir+'assessment_challenge.csv', index_col=0)"
   ]
  },
  {
   "cell_type": "code",
   "execution_count": 3,
   "metadata": {},
   "outputs": [
    {
     "name": "stdout",
     "output_type": "stream",
     "text": [
      "dataframe shape: (59976, 18)\n",
      "\n",
      "\n",
      "preview:\n",
      "    read_rate                  from_domain_hash Domain_extension  day  \\\n",
      "id                                                                      \n",
      "1    0.142857  27b0d9f2946586e2714e3b4312bc8207               br  Sat   \n",
      "2    0.000000  b10a5c38ffad692959a42353fd2896f2              com  Wed   \n",
      "3    0.500000  f8a9fa3e4cbeb4436c4eaf9183df2cbf              com  Fri   \n",
      "4    0.134615  6dc9420f4bcb2746186f64cf5072d1fa              com  Sun   \n",
      "5    0.000000  a37f0e9827536a9bb709b1b505d57aa9              com  Sun   \n",
      "\n",
      "    campaign_size  unique_user_cnt  avg_domain_read_rate  \\\n",
      "id                                                         \n",
      "1            14.0             14.0              0.090180   \n",
      "2            39.0             39.0              0.005406   \n",
      "3            18.0              2.0              0.302676   \n",
      "4            52.0             52.0              0.141473   \n",
      "5            17.0             17.0              0.018936   \n",
      "\n",
      "    avg_domain_inbox_rate  avg_user_avg_read_rate  \\\n",
      "id                                                  \n",
      "1                0.104208                0.184311   \n",
      "2                0.008427                0.058590   \n",
      "3                0.970434                0.055645   \n",
      "4                0.776517                0.169429   \n",
      "5                0.028425                0.052422   \n",
      "\n",
      "    avg_user_domain_avg_read_rate  mb_superuser  mb_engper  mb_supersub  \\\n",
      "id                                                                        \n",
      "1                        0.205275      0.214286   0.428571     0.000000   \n",
      "2                        0.000000      0.128205   0.102564     0.410256   \n",
      "3                        0.433333      0.000000   0.000000     0.500000   \n",
      "4                        0.182516      0.196078   0.215686     0.294118   \n",
      "5                        0.000000      0.058824   0.294118     0.176471   \n",
      "\n",
      "    mb_engsec  mb_inper  mb_insec  mb_unengsec  mb_idlesub  \n",
      "id                                                          \n",
      "1    0.000000       0.0  0.142857     0.214286         0.0  \n",
      "2    0.153846       0.0  0.179487     0.025641         0.0  \n",
      "3    0.000000       0.0  0.000000     0.500000         0.0  \n",
      "4    0.176471       0.0  0.078431     0.039216         0.0  \n",
      "5    0.176471       0.0  0.235294     0.058824         0.0  \n",
      "\n",
      "\n",
      "summary:\n",
      "          read_rate  campaign_size  unique_user_cnt  avg_domain_read_rate  \\\n",
      "count  59976.000000   59975.000000     59975.000000          59975.000000   \n",
      "mean       0.094646     143.258041       129.491071              0.107053   \n",
      "std        0.165697    1218.725723       992.785980              0.127793   \n",
      "min        0.000000      11.000000         1.000000              0.000000   \n",
      "25%        0.000000      15.000000        14.000000              0.009264   \n",
      "50%        0.017241      24.000000        22.000000              0.061572   \n",
      "75%        0.125000      57.000000        52.000000              0.176065   \n",
      "max        1.000000  121817.000000    112439.000000              1.000000   \n",
      "\n",
      "       avg_domain_inbox_rate  avg_user_avg_read_rate  \\\n",
      "count           59975.000000            59975.000000   \n",
      "mean                0.461029                0.086192   \n",
      "std                 0.398551                0.077821   \n",
      "min                 0.000000                0.000000   \n",
      "25%                 0.018170                0.036402   \n",
      "50%                 0.540357                0.065918   \n",
      "75%                 0.903305                0.115383   \n",
      "max                 1.000000                0.996852   \n",
      "\n",
      "       avg_user_domain_avg_read_rate  mb_superuser     mb_engper  \\\n",
      "count                   59975.000000  59975.000000  59975.000000   \n",
      "mean                        0.076427      0.103915      0.246325   \n",
      "std                         0.131760      0.110716      0.164119   \n",
      "min                         0.000000      0.000000      0.000000   \n",
      "25%                         0.000000      0.028037      0.142857   \n",
      "50%                         0.011342      0.080000      0.221429   \n",
      "75%                         0.106667      0.149493      0.321043   \n",
      "max                         1.000000      1.000000      1.000000   \n",
      "\n",
      "        mb_supersub     mb_engsec      mb_inper      mb_insec   mb_unengsec  \\\n",
      "count  59975.000000  59975.000000  59975.000000  59975.000000  59975.000000   \n",
      "mean       0.228185      0.149990      0.016864      0.135194      0.105345   \n",
      "std        0.139179      0.105111      0.060599      0.132990      0.100545   \n",
      "min        0.000000      0.000000      0.000000      0.000000      0.000000   \n",
      "25%        0.136364      0.083333      0.000000      0.038710      0.040541   \n",
      "50%        0.230769      0.145329      0.000000      0.103896      0.090909   \n",
      "75%        0.308511      0.204324      0.000000      0.200000      0.150000   \n",
      "max        1.000000      1.000000      1.000000      1.000000      1.000000   \n",
      "\n",
      "         mb_idlesub  \n",
      "count  59975.000000  \n",
      "mean       0.001876  \n",
      "std        0.022579  \n",
      "min        0.000000  \n",
      "25%        0.000000  \n",
      "50%        0.000000  \n",
      "75%        0.000000  \n",
      "max        1.000000  \n",
      "\n",
      "\n",
      "categorical variable counts:\n",
      "from_domain_hash    25481\n",
      "Domain_extension      398\n",
      "day                     7\n",
      "dtype: int64\n",
      "\n",
      "\n",
      "columns with at least 1 NaN value: \n",
      "['Domain_extension', 'day', 'campaign_size', 'unique_user_cnt', 'avg_domain_read_rate', 'avg_domain_inbox_rate', 'avg_user_avg_read_rate', 'avg_user_domain_avg_read_rate', 'mb_superuser', 'mb_engper', 'mb_supersub', 'mb_engsec', 'mb_inper', 'mb_insec', 'mb_unengsec', 'mb_idlesub']\n"
     ]
    }
   ],
   "source": [
    "print(\"dataframe shape: {}\".format(df.shape))\n",
    "print(\"\\n\")\n",
    "print(\"preview:\\n{}\".format(df.head()))\n",
    "print(\"\\n\")\n",
    "print(\"summary:\\n{}\".format(df.describe()))\n",
    "print(\"\\n\")\n",
    "print(\"categorical variable counts:\")\n",
    "print(df[['from_domain_hash', 'Domain_extension', 'day']].nunique())\n",
    "print(\"\\n\")\n",
    "print(\"columns with at least 1 NaN value: \\n{}\".format(df.columns[df.isna().any()].tolist()))"
   ]
  },
  {
   "cell_type": "markdown",
   "metadata": {},
   "source": [
    "Observations:\n",
    "* `campaign_size` and `unique_user_cnt` have <100 interquartile ranges and also some extremely large values. A campaign that targets 100k+ users seems reasonable in a business sense: for example, in 2016 Amazon was reported to have 310 million active customers; even to target a small fraction of their customer base would easily make a 100k+ campaign. On the other hand, these extreme values can be an indicator of some bug in the record-keeping system. To be safe I would alert the corresponding software engineer to double-check if I noticed this in real work. Within the scope of this analysis, numercial problems become a concern; if we are about to perform feature scaling we need to consider separating those large campaigns or removing them as outliers. \n",
    "* Hashed domain name and domain extension have high cardinality. I would consider feature-hashing the former expecting ~5% collison if we decided to include it in the analysis. The latter could be binned or go with a combination of binning and encoding. \n",
    "* Average read rate is ~9%, which is higher than what I thought the industry standard was. Its median, 1.7%, suits my expection. I will check its skewness. \n",
    "* Almost all columns have 1+ missing value so we need to do some cleaning. "
   ]
  },
  {
   "cell_type": "markdown",
   "metadata": {},
   "source": [
    "### Cleaning ###"
   ]
  },
  {
   "cell_type": "code",
   "execution_count": 4,
   "metadata": {},
   "outputs": [
    {
     "data": {
      "text/html": [
       "<div>\n",
       "<style scoped>\n",
       "    .dataframe tbody tr th:only-of-type {\n",
       "        vertical-align: middle;\n",
       "    }\n",
       "\n",
       "    .dataframe tbody tr th {\n",
       "        vertical-align: top;\n",
       "    }\n",
       "\n",
       "    .dataframe thead th {\n",
       "        text-align: right;\n",
       "    }\n",
       "</style>\n",
       "<table border=\"1\" class=\"dataframe\">\n",
       "  <thead>\n",
       "    <tr style=\"text-align: right;\">\n",
       "      <th></th>\n",
       "      <th>read_rate</th>\n",
       "      <th>from_domain_hash</th>\n",
       "      <th>Domain_extension</th>\n",
       "      <th>day</th>\n",
       "      <th>campaign_size</th>\n",
       "      <th>unique_user_cnt</th>\n",
       "      <th>avg_domain_read_rate</th>\n",
       "      <th>avg_domain_inbox_rate</th>\n",
       "      <th>avg_user_avg_read_rate</th>\n",
       "      <th>avg_user_domain_avg_read_rate</th>\n",
       "      <th>mb_superuser</th>\n",
       "      <th>mb_engper</th>\n",
       "      <th>mb_supersub</th>\n",
       "      <th>mb_engsec</th>\n",
       "      <th>mb_inper</th>\n",
       "      <th>mb_insec</th>\n",
       "      <th>mb_unengsec</th>\n",
       "      <th>mb_idlesub</th>\n",
       "    </tr>\n",
       "    <tr>\n",
       "      <th>id</th>\n",
       "      <th></th>\n",
       "      <th></th>\n",
       "      <th></th>\n",
       "      <th></th>\n",
       "      <th></th>\n",
       "      <th></th>\n",
       "      <th></th>\n",
       "      <th></th>\n",
       "      <th></th>\n",
       "      <th></th>\n",
       "      <th></th>\n",
       "      <th></th>\n",
       "      <th></th>\n",
       "      <th></th>\n",
       "      <th></th>\n",
       "      <th></th>\n",
       "      <th></th>\n",
       "      <th></th>\n",
       "    </tr>\n",
       "  </thead>\n",
       "  <tbody>\n",
       "    <tr>\n",
       "      <th>4385</th>\n",
       "      <td>0.000000</td>\n",
       "      <td>33e7a3252c0fd11a89b2224e626d24aa</td>\n",
       "      <td>NaN</td>\n",
       "      <td>Tues</td>\n",
       "      <td>85.0</td>\n",
       "      <td>85.0</td>\n",
       "      <td>0.000000</td>\n",
       "      <td>0.019231</td>\n",
       "      <td>0.087548</td>\n",
       "      <td>0.0</td>\n",
       "      <td>0.117647</td>\n",
       "      <td>0.200000</td>\n",
       "      <td>0.258824</td>\n",
       "      <td>0.105882</td>\n",
       "      <td>0.0</td>\n",
       "      <td>0.141176</td>\n",
       "      <td>0.176471</td>\n",
       "      <td>0.0</td>\n",
       "    </tr>\n",
       "    <tr>\n",
       "      <th>28065</th>\n",
       "      <td>0.000000</td>\n",
       "      <td>35ce1d4eb0f666cd136987d34f64aedc</td>\n",
       "      <td>NaN</td>\n",
       "      <td>Wed</td>\n",
       "      <td>11.0</td>\n",
       "      <td>2.0</td>\n",
       "      <td>0.000000</td>\n",
       "      <td>0.000000</td>\n",
       "      <td>0.001859</td>\n",
       "      <td>0.0</td>\n",
       "      <td>0.000000</td>\n",
       "      <td>0.909091</td>\n",
       "      <td>0.090909</td>\n",
       "      <td>0.000000</td>\n",
       "      <td>0.0</td>\n",
       "      <td>0.000000</td>\n",
       "      <td>0.000000</td>\n",
       "      <td>0.0</td>\n",
       "    </tr>\n",
       "    <tr>\n",
       "      <th>35495</th>\n",
       "      <td>0.000000</td>\n",
       "      <td>35ce1d4eb0f666cd136987d34f64aedc</td>\n",
       "      <td>NaN</td>\n",
       "      <td>Tues</td>\n",
       "      <td>11.0</td>\n",
       "      <td>2.0</td>\n",
       "      <td>0.000000</td>\n",
       "      <td>0.000000</td>\n",
       "      <td>0.001859</td>\n",
       "      <td>0.0</td>\n",
       "      <td>0.000000</td>\n",
       "      <td>0.909091</td>\n",
       "      <td>0.090909</td>\n",
       "      <td>0.000000</td>\n",
       "      <td>0.0</td>\n",
       "      <td>0.000000</td>\n",
       "      <td>0.000000</td>\n",
       "      <td>0.0</td>\n",
       "    </tr>\n",
       "    <tr>\n",
       "      <th>53958</th>\n",
       "      <td>0.000000</td>\n",
       "      <td>8e78e2098cfa0c3b4d7873ba32ee2e81</td>\n",
       "      <td>NaN</td>\n",
       "      <td>Mon</td>\n",
       "      <td>14.0</td>\n",
       "      <td>14.0</td>\n",
       "      <td>0.027778</td>\n",
       "      <td>0.027778</td>\n",
       "      <td>0.057472</td>\n",
       "      <td>0.0</td>\n",
       "      <td>0.000000</td>\n",
       "      <td>0.214286</td>\n",
       "      <td>0.214286</td>\n",
       "      <td>0.357143</td>\n",
       "      <td>0.0</td>\n",
       "      <td>0.142857</td>\n",
       "      <td>0.071429</td>\n",
       "      <td>0.0</td>\n",
       "    </tr>\n",
       "    <tr>\n",
       "      <th>59976</th>\n",
       "      <td>0.058333</td>\n",
       "      <td>86d0399a308ae0a71e</td>\n",
       "      <td>NaN</td>\n",
       "      <td>NaN</td>\n",
       "      <td>NaN</td>\n",
       "      <td>NaN</td>\n",
       "      <td>NaN</td>\n",
       "      <td>NaN</td>\n",
       "      <td>NaN</td>\n",
       "      <td>NaN</td>\n",
       "      <td>NaN</td>\n",
       "      <td>NaN</td>\n",
       "      <td>NaN</td>\n",
       "      <td>NaN</td>\n",
       "      <td>NaN</td>\n",
       "      <td>NaN</td>\n",
       "      <td>NaN</td>\n",
       "      <td>NaN</td>\n",
       "    </tr>\n",
       "  </tbody>\n",
       "</table>\n",
       "</div>"
      ],
      "text/plain": [
       "       read_rate                  from_domain_hash Domain_extension   day  \\\n",
       "id                                                                          \n",
       "4385    0.000000  33e7a3252c0fd11a89b2224e626d24aa              NaN  Tues   \n",
       "28065   0.000000  35ce1d4eb0f666cd136987d34f64aedc              NaN   Wed   \n",
       "35495   0.000000  35ce1d4eb0f666cd136987d34f64aedc              NaN  Tues   \n",
       "53958   0.000000  8e78e2098cfa0c3b4d7873ba32ee2e81              NaN   Mon   \n",
       "59976   0.058333                86d0399a308ae0a71e              NaN   NaN   \n",
       "\n",
       "       campaign_size  unique_user_cnt  avg_domain_read_rate  \\\n",
       "id                                                            \n",
       "4385            85.0             85.0              0.000000   \n",
       "28065           11.0              2.0              0.000000   \n",
       "35495           11.0              2.0              0.000000   \n",
       "53958           14.0             14.0              0.027778   \n",
       "59976            NaN              NaN                   NaN   \n",
       "\n",
       "       avg_domain_inbox_rate  avg_user_avg_read_rate  \\\n",
       "id                                                     \n",
       "4385                0.019231                0.087548   \n",
       "28065               0.000000                0.001859   \n",
       "35495               0.000000                0.001859   \n",
       "53958               0.027778                0.057472   \n",
       "59976                    NaN                     NaN   \n",
       "\n",
       "       avg_user_domain_avg_read_rate  mb_superuser  mb_engper  mb_supersub  \\\n",
       "id                                                                           \n",
       "4385                             0.0      0.117647   0.200000     0.258824   \n",
       "28065                            0.0      0.000000   0.909091     0.090909   \n",
       "35495                            0.0      0.000000   0.909091     0.090909   \n",
       "53958                            0.0      0.000000   0.214286     0.214286   \n",
       "59976                            NaN           NaN        NaN          NaN   \n",
       "\n",
       "       mb_engsec  mb_inper  mb_insec  mb_unengsec  mb_idlesub  \n",
       "id                                                             \n",
       "4385    0.105882       0.0  0.141176     0.176471         0.0  \n",
       "28065   0.000000       0.0  0.000000     0.000000         0.0  \n",
       "35495   0.000000       0.0  0.000000     0.000000         0.0  \n",
       "53958   0.357143       0.0  0.142857     0.071429         0.0  \n",
       "59976        NaN       NaN       NaN          NaN         NaN  "
      ]
     },
     "execution_count": 4,
     "metadata": {},
     "output_type": "execute_result"
    }
   ],
   "source": [
    "df[df['Domain_extension'].isnull()==True]"
   ]
  },
  {
   "cell_type": "code",
   "execution_count": 5,
   "metadata": {},
   "outputs": [
    {
     "name": "stdout",
     "output_type": "stream",
     "text": [
      "dataframe shape after removing records with missing data: (59971, 18)\n"
     ]
    }
   ],
   "source": [
    "df = df.dropna(axis=0)\n",
    "# print(df.isnull().values.any())\n",
    "print(\"dataframe shape after removing records with missing data: {}\".format(df.shape))"
   ]
  },
  {
   "cell_type": "markdown",
   "metadata": {},
   "source": [
    "## EDA ##"
   ]
  },
  {
   "cell_type": "code",
   "execution_count": 6,
   "metadata": {},
   "outputs": [
    {
     "name": "stderr",
     "output_type": "stream",
     "text": [
      "/usr/local/lib/python3.6/dist-packages/matplotlib/axes/_axes.py:6462: UserWarning: The 'normed' kwarg is deprecated, and has been replaced by the 'density' kwarg.\n",
      "  warnings.warn(\"The 'normed' kwarg is deprecated, and has been \"\n"
     ]
    },
    {
     "data": {
      "text/plain": [
       "<matplotlib.axes._subplots.AxesSubplot at 0x7f0583d47048>"
      ]
     },
     "execution_count": 6,
     "metadata": {},
     "output_type": "execute_result"
    },
    {
     "data": {
      "image/png": "[encoded data removed]",
      "text/plain": [
       "<Figure size 432x288 with 1 Axes>"
      ]
     },
     "metadata": {},
     "output_type": "display_data"
    }
   ],
   "source": [
    "sns.distplot(df['read_rate'])"
   ]
  },
  {
   "cell_type": "code",
   "execution_count": 7,
   "metadata": {},
   "outputs": [
    {
     "data": {
      "text/plain": [
       "<matplotlib.axes._subplots.AxesSubplot at 0x7f05842957f0>"
      ]
     },
     "execution_count": 7,
     "metadata": {},
     "output_type": "execute_result"
    },
    {
     "data": {
      "image/png": "[encoded data removed]",
      "text/plain": [
       "<Figure size 432x288 with 1 Axes>"
      ]
     },
     "metadata": {},
     "output_type": "display_data"
    }
   ],
   "source": [
    "sns.boxplot(x='day', y='read_rate', data=df, order=['Mon', 'Tues', 'Wed', 'Thurs', 'Fri', 'Sat', 'Sun'])"
   ]
  },
  {
   "cell_type": "markdown",
   "metadata": {},
   "source": [
    "Observations: \n",
    "* Read rate is extremely right-skewed. \n",
    "* Across weekdays read rate is similar to each other. Between weekend days read rate is similar to each other but weekday read rate is higher. "
   ]
  },
  {
   "cell_type": "markdown",
   "metadata": {},
   "source": [
    "A domain that bombards users with emails is likely to be recognized - either by the user themselves or the user's email service provider - as a spam distributer and therefore the campaign email will not be read. First we look at domains that host many campaigns."
   ]
  },
  {
   "cell_type": "code",
   "execution_count": 8,
   "metadata": {},
   "outputs": [],
   "source": [
    "domain_hash_freq = pd.Series(df[\"from_domain_hash\"].value_counts())"
   ]
  },
  {
   "cell_type": "code",
   "execution_count": 9,
   "metadata": {},
   "outputs": [
    {
     "name": "stdout",
     "output_type": "stream",
     "text": [
      "distribution of count of campaigns per domain: \n",
      "count    25477.000000\n",
      "mean         2.353927\n",
      "std         27.622361\n",
      "min          1.000000\n",
      "25%          1.000000\n",
      "50%          1.000000\n",
      "75%          1.000000\n",
      "max       2461.000000\n",
      "Name: from_domain_hash, dtype: float64\n",
      "\n",
      "\n",
      "largest # of campaigns: \n",
      "50cd1a9a183758039b0841aa738c3f0b    2461\n",
      "f74d39fa044aa309eaea14b9f57fe79c    2152\n",
      "d30663cb0bed60805ad3ae4ebbad217b    2148\n",
      "636ae4d78ec2b46248fc59ac1ad737df    1665\n",
      "f54db463750940e0e7f7630fe327845e     467\n",
      "Name: from_domain_hash, dtype: int64\n",
      "\n",
      "\n",
      "98%, 98.5%, 99%, 99.5% percentile of said frequency: \n",
      "0.980    10.0\n",
      "0.985    14.0\n",
      "0.990    20.0\n",
      "0.995    30.0\n",
      "Name: from_domain_hash, dtype: float64\n"
     ]
    }
   ],
   "source": [
    "print(\"distribution of count of campaigns per domain: \\n{}\".format(domain_hash_freq.describe()))\n",
    "print(\"\\n\")\n",
    "print(\"largest # of campaigns: \\n{}\".format(domain_hash_freq.nlargest()))\n",
    "print(\"\\n\")\n",
    "print(\"98%, 98.5%, 99%, 99.5% percentile of said frequency: \\n{}\"\\\n",
    "      .format(domain_hash_freq.quantile([.98, .985, .99, .995])))"
   ]
  },
  {
   "cell_type": "markdown",
   "metadata": {},
   "source": [
    "Similarly, if one campaign (regardless of domain) sends out many email to the same user, it is also likely to be considered spam. Let's look at email count per campaign. "
   ]
  },
  {
   "cell_type": "code",
   "execution_count": 10,
   "metadata": {},
   "outputs": [
    {
     "name": "stdout",
     "output_type": "stream",
     "text": [
      "distribution of frequency of emails per campaign: \n",
      "count    59971.000000\n",
      "mean         2.667014\n",
      "std         30.475234\n",
      "min          1.000000\n",
      "25%          1.000000\n",
      "50%          1.000000\n",
      "75%          1.004167\n",
      "max       4926.000000\n",
      "dtype: float64\n",
      "98%, 98.5%, 99%, 99.5% percentile of said frequency: \n",
      "0.980    15.000000\n",
      "0.985    20.000000\n",
      "0.990    28.000000\n",
      "0.995    52.433333\n",
      "dtype: float64\n"
     ]
    }
   ],
   "source": [
    "avg_email_per_unique_user = df['campaign_size'] / df['unique_user_cnt']\n",
    "print(\"distribution of frequency of emails per campaign: \\n{}\".format(avg_email_per_unique_user.describe()))\n",
    "print(\"98%, 98.5%, 99%, 99.5% percentile of said frequency: \\n{}\"\n",
    "      .format(avg_email_per_unique_user.quantile([.98, .985, .99, .995])))"
   ]
  },
  {
   "cell_type": "markdown",
   "metadata": {},
   "source": [
    "Observations: 75%+ domains host 1 campaign; 75% campaigns send 1 email to each user. Are the outliers erroneous records? I would like to check with the corresponding engineers. "
   ]
  },
  {
   "cell_type": "markdown",
   "metadata": {},
   "source": [
    "Among all the features, the simplest to control and act on is campaign size. How is its relationship with the target and other features?"
   ]
  },
  {
   "cell_type": "code",
   "execution_count": 74,
   "metadata": {},
   "outputs": [
    {
     "data": {
      "text/plain": [
       "<matplotlib.axes._subplots.AxesSubplot at 0x7f0581b4be10>"
      ]
     },
     "execution_count": 74,
     "metadata": {},
     "output_type": "execute_result"
    },
    {
     "data": {
      "image/png": "[encoded data removed]",
      "text/plain": [
       "<Figure size 432x288 with 1 Axes>"
      ]
     },
     "metadata": {},
     "output_type": "display_data"
    }
   ],
   "source": [
    "sns.regplot(df['campaign_size'], df['read_rate'], fit_reg=False)"
   ]
  },
  {
   "cell_type": "code",
   "execution_count": 73,
   "metadata": {},
   "outputs": [
    {
     "data": {
      "text/plain": [
       "<matplotlib.axes._subplots.AxesSubplot at 0x7f0583e81f28>"
      ]
     },
     "execution_count": 73,
     "metadata": {},
     "output_type": "execute_result"
    },
    {
     "data": {
      "image/png": "[encoded data removed]",
      "text/plain": [
       "<Figure size 432x288 with 1 Axes>"
      ]
     },
     "metadata": {},
     "output_type": "display_data"
    }
   ],
   "source": [
    "sns.regplot(df['campaign_size'], df['avg_domain_read_rate'], fit_reg=False)"
   ]
  },
  {
   "cell_type": "markdown",
   "metadata": {},
   "source": [
    "Some campaigns have read rates that are higher than industry standards by far. Anything in common among them?"
   ]
  },
  {
   "cell_type": "code",
   "execution_count": 78,
   "metadata": {},
   "outputs": [
    {
     "data": {
      "text/html": [
       "<div>\n",
       "<style scoped>\n",
       "    .dataframe tbody tr th:only-of-type {\n",
       "        vertical-align: middle;\n",
       "    }\n",
       "\n",
       "    .dataframe tbody tr th {\n",
       "        vertical-align: top;\n",
       "    }\n",
       "\n",
       "    .dataframe thead th {\n",
       "        text-align: right;\n",
       "    }\n",
       "</style>\n",
       "<table border=\"1\" class=\"dataframe\">\n",
       "  <thead>\n",
       "    <tr style=\"text-align: right;\">\n",
       "      <th></th>\n",
       "      <th>read_rate</th>\n",
       "      <th>campaign_size</th>\n",
       "      <th>unique_user_cnt</th>\n",
       "      <th>avg_domain_read_rate</th>\n",
       "      <th>avg_domain_inbox_rate</th>\n",
       "      <th>avg_user_avg_read_rate</th>\n",
       "      <th>avg_user_domain_avg_read_rate</th>\n",
       "      <th>mb_superuser</th>\n",
       "      <th>mb_engper</th>\n",
       "      <th>mb_supersub</th>\n",
       "      <th>mb_engsec</th>\n",
       "      <th>mb_inper</th>\n",
       "      <th>mb_insec</th>\n",
       "      <th>mb_unengsec</th>\n",
       "      <th>mb_idlesub</th>\n",
       "    </tr>\n",
       "  </thead>\n",
       "  <tbody>\n",
       "    <tr>\n",
       "      <th>count</th>\n",
       "      <td>899.000000</td>\n",
       "      <td>899.000000</td>\n",
       "      <td>899.000000</td>\n",
       "      <td>899.000000</td>\n",
       "      <td>899.000000</td>\n",
       "      <td>899.000000</td>\n",
       "      <td>899.000000</td>\n",
       "      <td>899.000000</td>\n",
       "      <td>899.000000</td>\n",
       "      <td>899.000000</td>\n",
       "      <td>899.000000</td>\n",
       "      <td>899.000000</td>\n",
       "      <td>899.000000</td>\n",
       "      <td>899.000000</td>\n",
       "      <td>899.000000</td>\n",
       "    </tr>\n",
       "    <tr>\n",
       "      <th>mean</th>\n",
       "      <td>0.927776</td>\n",
       "      <td>54.876529</td>\n",
       "      <td>31.490545</td>\n",
       "      <td>0.355878</td>\n",
       "      <td>0.684611</td>\n",
       "      <td>0.337238</td>\n",
       "      <td>0.613376</td>\n",
       "      <td>0.417247</td>\n",
       "      <td>0.378730</td>\n",
       "      <td>0.097837</td>\n",
       "      <td>0.056635</td>\n",
       "      <td>0.001448</td>\n",
       "      <td>0.011328</td>\n",
       "      <td>0.021579</td>\n",
       "      <td>0.002960</td>\n",
       "    </tr>\n",
       "    <tr>\n",
       "      <th>std</th>\n",
       "      <td>0.067993</td>\n",
       "      <td>341.960709</td>\n",
       "      <td>168.455498</td>\n",
       "      <td>0.219408</td>\n",
       "      <td>0.206396</td>\n",
       "      <td>0.206759</td>\n",
       "      <td>0.296469</td>\n",
       "      <td>0.315672</td>\n",
       "      <td>0.284851</td>\n",
       "      <td>0.154798</td>\n",
       "      <td>0.112331</td>\n",
       "      <td>0.009407</td>\n",
       "      <td>0.058463</td>\n",
       "      <td>0.073217</td>\n",
       "      <td>0.050315</td>\n",
       "    </tr>\n",
       "    <tr>\n",
       "      <th>min</th>\n",
       "      <td>0.800000</td>\n",
       "      <td>11.000000</td>\n",
       "      <td>1.000000</td>\n",
       "      <td>0.003285</td>\n",
       "      <td>0.007461</td>\n",
       "      <td>0.000000</td>\n",
       "      <td>0.000000</td>\n",
       "      <td>0.000000</td>\n",
       "      <td>0.000000</td>\n",
       "      <td>0.000000</td>\n",
       "      <td>0.000000</td>\n",
       "      <td>0.000000</td>\n",
       "      <td>0.000000</td>\n",
       "      <td>0.000000</td>\n",
       "      <td>0.000000</td>\n",
       "    </tr>\n",
       "    <tr>\n",
       "      <th>25%</th>\n",
       "      <td>0.866667</td>\n",
       "      <td>13.000000</td>\n",
       "      <td>3.000000</td>\n",
       "      <td>0.263610</td>\n",
       "      <td>0.549274</td>\n",
       "      <td>0.212367</td>\n",
       "      <td>0.479792</td>\n",
       "      <td>0.176471</td>\n",
       "      <td>0.157072</td>\n",
       "      <td>0.000000</td>\n",
       "      <td>0.000000</td>\n",
       "      <td>0.000000</td>\n",
       "      <td>0.000000</td>\n",
       "      <td>0.000000</td>\n",
       "      <td>0.000000</td>\n",
       "    </tr>\n",
       "    <tr>\n",
       "      <th>50%</th>\n",
       "      <td>0.933333</td>\n",
       "      <td>17.000000</td>\n",
       "      <td>11.000000</td>\n",
       "      <td>0.263610</td>\n",
       "      <td>0.632892</td>\n",
       "      <td>0.292640</td>\n",
       "      <td>0.677325</td>\n",
       "      <td>0.363636</td>\n",
       "      <td>0.375000</td>\n",
       "      <td>0.056818</td>\n",
       "      <td>0.000000</td>\n",
       "      <td>0.000000</td>\n",
       "      <td>0.000000</td>\n",
       "      <td>0.000000</td>\n",
       "      <td>0.000000</td>\n",
       "    </tr>\n",
       "    <tr>\n",
       "      <th>75%</th>\n",
       "      <td>1.000000</td>\n",
       "      <td>29.000000</td>\n",
       "      <td>19.000000</td>\n",
       "      <td>0.490242</td>\n",
       "      <td>0.893216</td>\n",
       "      <td>0.411478</td>\n",
       "      <td>0.827187</td>\n",
       "      <td>0.571429</td>\n",
       "      <td>0.529663</td>\n",
       "      <td>0.133333</td>\n",
       "      <td>0.076923</td>\n",
       "      <td>0.000000</td>\n",
       "      <td>0.000000</td>\n",
       "      <td>0.000000</td>\n",
       "      <td>0.000000</td>\n",
       "    </tr>\n",
       "    <tr>\n",
       "      <th>max</th>\n",
       "      <td>1.000000</td>\n",
       "      <td>9237.000000</td>\n",
       "      <td>4260.000000</td>\n",
       "      <td>1.000000</td>\n",
       "      <td>1.000000</td>\n",
       "      <td>0.996852</td>\n",
       "      <td>1.000000</td>\n",
       "      <td>1.000000</td>\n",
       "      <td>1.000000</td>\n",
       "      <td>1.000000</td>\n",
       "      <td>1.000000</td>\n",
       "      <td>0.115385</td>\n",
       "      <td>1.000000</td>\n",
       "      <td>1.000000</td>\n",
       "      <td>1.000000</td>\n",
       "    </tr>\n",
       "  </tbody>\n",
       "</table>\n",
       "</div>"
      ],
      "text/plain": [
       "        read_rate  campaign_size  unique_user_cnt  avg_domain_read_rate  \\\n",
       "count  899.000000     899.000000       899.000000            899.000000   \n",
       "mean     0.927776      54.876529        31.490545              0.355878   \n",
       "std      0.067993     341.960709       168.455498              0.219408   \n",
       "min      0.800000      11.000000         1.000000              0.003285   \n",
       "25%      0.866667      13.000000         3.000000              0.263610   \n",
       "50%      0.933333      17.000000        11.000000              0.263610   \n",
       "75%      1.000000      29.000000        19.000000              0.490242   \n",
       "max      1.000000    9237.000000      4260.000000              1.000000   \n",
       "\n",
       "       avg_domain_inbox_rate  avg_user_avg_read_rate  \\\n",
       "count             899.000000              899.000000   \n",
       "mean                0.684611                0.337238   \n",
       "std                 0.206396                0.206759   \n",
       "min                 0.007461                0.000000   \n",
       "25%                 0.549274                0.212367   \n",
       "50%                 0.632892                0.292640   \n",
       "75%                 0.893216                0.411478   \n",
       "max                 1.000000                0.996852   \n",
       "\n",
       "       avg_user_domain_avg_read_rate  mb_superuser   mb_engper  mb_supersub  \\\n",
       "count                     899.000000    899.000000  899.000000   899.000000   \n",
       "mean                        0.613376      0.417247    0.378730     0.097837   \n",
       "std                         0.296469      0.315672    0.284851     0.154798   \n",
       "min                         0.000000      0.000000    0.000000     0.000000   \n",
       "25%                         0.479792      0.176471    0.157072     0.000000   \n",
       "50%                         0.677325      0.363636    0.375000     0.056818   \n",
       "75%                         0.827187      0.571429    0.529663     0.133333   \n",
       "max                         1.000000      1.000000    1.000000     1.000000   \n",
       "\n",
       "        mb_engsec    mb_inper    mb_insec  mb_unengsec  mb_idlesub  \n",
       "count  899.000000  899.000000  899.000000   899.000000  899.000000  \n",
       "mean     0.056635    0.001448    0.011328     0.021579    0.002960  \n",
       "std      0.112331    0.009407    0.058463     0.073217    0.050315  \n",
       "min      0.000000    0.000000    0.000000     0.000000    0.000000  \n",
       "25%      0.000000    0.000000    0.000000     0.000000    0.000000  \n",
       "50%      0.000000    0.000000    0.000000     0.000000    0.000000  \n",
       "75%      0.076923    0.000000    0.000000     0.000000    0.000000  \n",
       "max      1.000000    0.115385    1.000000     1.000000    1.000000  "
      ]
     },
     "execution_count": 78,
     "metadata": {},
     "output_type": "execute_result"
    }
   ],
   "source": [
    "df[df['read_rate']>=0.8].describe()"
   ]
  },
  {
   "cell_type": "markdown",
   "metadata": {},
   "source": [
    "Most of them are moderately-sized. "
   ]
  },
  {
   "cell_type": "code",
   "execution_count": 81,
   "metadata": {},
   "outputs": [
    {
     "data": {
      "text/html": [
       "<div>\n",
       "<style scoped>\n",
       "    .dataframe tbody tr th:only-of-type {\n",
       "        vertical-align: middle;\n",
       "    }\n",
       "\n",
       "    .dataframe tbody tr th {\n",
       "        vertical-align: top;\n",
       "    }\n",
       "\n",
       "    .dataframe thead th {\n",
       "        text-align: right;\n",
       "    }\n",
       "</style>\n",
       "<table border=\"1\" class=\"dataframe\">\n",
       "  <thead>\n",
       "    <tr style=\"text-align: right;\">\n",
       "      <th></th>\n",
       "      <th>read_rate</th>\n",
       "      <th>from_domain_hash</th>\n",
       "      <th>Domain_extension</th>\n",
       "      <th>day</th>\n",
       "      <th>campaign_size</th>\n",
       "      <th>unique_user_cnt</th>\n",
       "      <th>avg_domain_read_rate</th>\n",
       "      <th>avg_domain_inbox_rate</th>\n",
       "      <th>avg_user_avg_read_rate</th>\n",
       "      <th>avg_user_domain_avg_read_rate</th>\n",
       "      <th>mb_superuser</th>\n",
       "      <th>mb_engper</th>\n",
       "      <th>mb_supersub</th>\n",
       "      <th>mb_engsec</th>\n",
       "      <th>mb_inper</th>\n",
       "      <th>mb_insec</th>\n",
       "      <th>mb_unengsec</th>\n",
       "      <th>mb_idlesub</th>\n",
       "    </tr>\n",
       "    <tr>\n",
       "      <th>id</th>\n",
       "      <th></th>\n",
       "      <th></th>\n",
       "      <th></th>\n",
       "      <th></th>\n",
       "      <th></th>\n",
       "      <th></th>\n",
       "      <th></th>\n",
       "      <th></th>\n",
       "      <th></th>\n",
       "      <th></th>\n",
       "      <th></th>\n",
       "      <th></th>\n",
       "      <th></th>\n",
       "      <th></th>\n",
       "      <th></th>\n",
       "      <th></th>\n",
       "      <th></th>\n",
       "      <th></th>\n",
       "    </tr>\n",
       "  </thead>\n",
       "  <tbody>\n",
       "    <tr>\n",
       "      <th>4851</th>\n",
       "      <td>0.905489</td>\n",
       "      <td>50cd1a9a183758039b0841aa738c3f0b</td>\n",
       "      <td>com</td>\n",
       "      <td>Sun</td>\n",
       "      <td>9237.0</td>\n",
       "      <td>4260.0</td>\n",
       "      <td>0.26361</td>\n",
       "      <td>0.549274</td>\n",
       "      <td>0.338275</td>\n",
       "      <td>0.682346</td>\n",
       "      <td>0.44442</td>\n",
       "      <td>0.378701</td>\n",
       "      <td>0.082095</td>\n",
       "      <td>0.052489</td>\n",
       "      <td>0.000759</td>\n",
       "      <td>0.018762</td>\n",
       "      <td>0.020063</td>\n",
       "      <td>0.002711</td>\n",
       "    </tr>\n",
       "  </tbody>\n",
       "</table>\n",
       "</div>"
      ],
      "text/plain": [
       "      read_rate                  from_domain_hash Domain_extension  day  \\\n",
       "id                                                                        \n",
       "4851   0.905489  50cd1a9a183758039b0841aa738c3f0b              com  Sun   \n",
       "\n",
       "      campaign_size  unique_user_cnt  avg_domain_read_rate  \\\n",
       "id                                                           \n",
       "4851         9237.0           4260.0               0.26361   \n",
       "\n",
       "      avg_domain_inbox_rate  avg_user_avg_read_rate  \\\n",
       "id                                                    \n",
       "4851               0.549274                0.338275   \n",
       "\n",
       "      avg_user_domain_avg_read_rate  mb_superuser  mb_engper  mb_supersub  \\\n",
       "id                                                                          \n",
       "4851                       0.682346       0.44442   0.378701     0.082095   \n",
       "\n",
       "      mb_engsec  mb_inper  mb_insec  mb_unengsec  mb_idlesub  \n",
       "id                                                            \n",
       "4851   0.052489  0.000759  0.018762     0.020063    0.002711  "
      ]
     },
     "execution_count": 81,
     "metadata": {},
     "output_type": "execute_result"
    }
   ],
   "source": [
    "df[(df['read_rate']>=0.8) & (df['campaign_size']>9000)]"
   ]
  },
  {
   "cell_type": "markdown",
   "metadata": {},
   "source": [
    "A 90%+ read rate appears unrealistically high. I would like to talk to fraud department to learn more about our data integrity measures. "
   ]
  },
  {
   "cell_type": "markdown",
   "metadata": {},
   "source": [
    "## Feature Engineering ##"
   ]
  },
  {
   "cell_type": "code",
   "execution_count": 11,
   "metadata": {},
   "outputs": [],
   "source": [
    "X_train, X_test, y_train, y_test = train_test_split(df.drop(\"read_rate\", axis=1), df[\"read_rate\"], test_size = 0.33,\\\n",
    "                                                    random_state=0)"
   ]
  },
  {
   "cell_type": "code",
   "execution_count": 70,
   "metadata": {},
   "outputs": [
    {
     "name": "stdout",
     "output_type": "stream",
     "text": [
      "domain extension frequency table: \n",
      "count      371.000000\n",
      "mean       108.301887\n",
      "std       1501.647389\n",
      "min          1.000000\n",
      "25%          2.000000\n",
      "50%          5.000000\n",
      "75%          9.000000\n",
      "max      28759.000000\n",
      "Name: Domain_extension, dtype: float64\n",
      "\n",
      "\n",
      "domains with highest frequencies: \n",
      "com     28759\n",
      "info     2237\n",
      "net      1903\n",
      "org      1119\n",
      "br        943\n",
      "Name: Domain_extension, dtype: int64\n"
     ]
    }
   ],
   "source": [
    "print(\"domain extension frequency table: \\n{}\".format(X_train['Domain_extension'].value_counts().describe()))\n",
    "print(\"\\n\")\n",
    "print(\"domains with highest frequencies: \\n{}\".format(X_train['Domain_extension'].value_counts().nlargest()))"
   ]
  },
  {
   "cell_type": "markdown",
   "metadata": {},
   "source": [
    "The top 5 most common domains plus two that I intuitively think are more likely to be read are kept as separate levels; less common levels are combined into one. "
   ]
  },
  {
   "cell_type": "code",
   "execution_count": 14,
   "metadata": {},
   "outputs": [],
   "source": [
    "domain_select = [\"com\", \"info\", \"net\", \"org\", \"br\", \"edu\", \"gov\"]\n",
    "X_train['domain_type'] = X_train['Domain_extension'].apply(lambda x: x if x in domain_select else 'other')\n",
    "X_test['domain_type'] = X_test['Domain_extension'].apply(lambda x: x if x in domain_select else 'other')"
   ]
  },
  {
   "cell_type": "code",
   "execution_count": 15,
   "metadata": {},
   "outputs": [
    {
     "name": "stderr",
     "output_type": "stream",
     "text": [
      "/usr/local/lib/python3.6/dist-packages/sklearn/preprocessing/label.py:151: DeprecationWarning: The truth value of an empty array is ambiguous. Returning False, but in future this will result in an error. Use `array.size > 0` to check that an array is not empty.\n",
      "  if diff:\n",
      "/usr/local/lib/python3.6/dist-packages/sklearn/preprocessing/label.py:151: DeprecationWarning: The truth value of an empty array is ambiguous. Returning False, but in future this will result in an error. Use `array.size > 0` to check that an array is not empty.\n",
      "  if diff:\n"
     ]
    }
   ],
   "source": [
    "def encode_feature(feature_name):\n",
    "    # globals()[df_name]\n",
    "    global X_train, X_test\n",
    "    \n",
    "    # integer encode\n",
    "    label_encoder = LabelEncoder()\n",
    "    integer_encoded = label_encoder.fit_transform(X_train[feature_name])\n",
    "    orig_levels = list(X_train[feature_name].unique())\n",
    "    # dictionary: encoded level: original level\n",
    "    col_name = dict(zip(label_encoder.transform(orig_levels),\\\n",
    "                    label_encoder.inverse_transform(label_encoder.transform(orig_levels))))\n",
    "    # binary encode\n",
    "    onehot_encoder = OneHotEncoder(sparse=False)\n",
    "    integer_encoded = integer_encoded.reshape(len(integer_encoded), 1)\n",
    "    onehot_encoded = onehot_encoder.fit_transform(integer_encoded)\n",
    "\n",
    "    X_train = pd.concat([X_train.reset_index(), pd.DataFrame(onehot_encoded)], axis=1).set_index('id')\n",
    "    X_train.rename(columns=col_name, inplace=True)\n",
    "\n",
    "    del integer_encoded, onehot_encoded \n",
    "\n",
    "    integer_encoded = label_encoder.transform(X_test[feature_name])\n",
    "    integer_encoded = integer_encoded.reshape(len(integer_encoded), 1)\n",
    "    onehot_encoded = onehot_encoder.transform(integer_encoded)\n",
    "\n",
    "    X_test = pd.concat([X_test.reset_index(), pd.DataFrame(onehot_encoded)], axis=1).set_index('id')\n",
    "    X_test.rename(columns=col_name, inplace=True)\n",
    "\n",
    "    # merge_rename(X_test)\n",
    "\n",
    "    del integer_encoded, onehot_encoded \n",
    "\n",
    "encode_feature('domain_type')\n",
    "encode_feature('day')"
   ]
  },
  {
   "cell_type": "code",
   "execution_count": 51,
   "metadata": {},
   "outputs": [],
   "source": [
    "predictors = ['campaign_size', 'unique_user_cnt', 'avg_domain_read_rate', 'avg_domain_inbox_rate',\n",
    "              'avg_user_avg_read_rate', 'avg_user_domain_avg_read_rate', 'mb_superuser', 'mb_engper',\n",
    "              'mb_supersub', 'mb_engsec', 'mb_inper', 'mb_insec', 'mb_unengsec', 'mb_idlesub',\n",
    "              'br', 'com', 'edu', 'gov', 'info', 'net', 'org', 'other', 'Fri', 'Mon', 'Sat', 'Sun',\n",
    "              'Thurs', 'Tues', 'Wed']"
   ]
  },
  {
   "cell_type": "markdown",
   "metadata": {},
   "source": [
    "Thoughts: Suppose I one-hot-encode hashed domain name, then domains that only exist in the test set (or new domains that were never seen before, in practice) will not be encoded. Suppose I feature-hash it to be future-proof, a feature space that is 26k (# of unique values of `from_domain_hash` is 25481) with 5% collison means the size of the hashing space will be 0.5 million. Therefore hashed domain name is not included in the analysis due to computation difficulty. "
   ]
  },
  {
   "cell_type": "markdown",
   "metadata": {},
   "source": [
    "## Model Building ##"
   ]
  },
  {
   "cell_type": "markdown",
   "metadata": {},
   "source": [
    "### Random Forest Regression ###"
   ]
  },
  {
   "cell_type": "markdown",
   "metadata": {},
   "source": [
    "Random Forest is a great go-to model for a data challenge. It is robust to outliers and skewed distributions in explanatory, does not require feature scaling, is not demanding on hyperparameter tuning (unlike SVM), and does not easily overfit (unlike boosted tree methods). "
   ]
  },
  {
   "cell_type": "markdown",
   "metadata": {},
   "source": [
    "We notice that the dependent variable is highly right-skewed. It also has many 0's so we cannot use a log transformation. Take the square root. "
   ]
  },
  {
   "cell_type": "code",
   "execution_count": 18,
   "metadata": {},
   "outputs": [
    {
     "name": "stderr",
     "output_type": "stream",
     "text": [
      "/usr/local/lib/python3.6/dist-packages/matplotlib/axes/_axes.py:6462: UserWarning: The 'normed' kwarg is deprecated, and has been replaced by the 'density' kwarg.\n",
      "  warnings.warn(\"The 'normed' kwarg is deprecated, and has been \"\n"
     ]
    },
    {
     "data": {
      "text/plain": [
       "<matplotlib.axes._subplots.AxesSubplot at 0x7f05868ed748>"
      ]
     },
     "execution_count": 18,
     "metadata": {},
     "output_type": "execute_result"
    },
    {
     "data": {
      "image/png": "[encoded data removed]",
      "text/plain": [
       "<Figure size 432x288 with 1 Axes>"
      ]
     },
     "metadata": {},
     "output_type": "display_data"
    }
   ],
   "source": [
    "y_train_t = np.sqrt(y_train)\n",
    "sns.distplot(y_train_t)"
   ]
  },
  {
   "cell_type": "markdown",
   "metadata": {},
   "source": [
    "Still looks very skewed. However the data now looks like a better-behaved bimodal distribution. "
   ]
  },
  {
   "cell_type": "code",
   "execution_count": 52,
   "metadata": {},
   "outputs": [
    {
     "data": {
      "text/plain": [
       "RandomForestRegressor(bootstrap=True, criterion='mse', max_depth=None,\n",
       "           max_features=0.33, max_leaf_nodes=None,\n",
       "           min_impurity_decrease=0.0, min_impurity_split=None,\n",
       "           min_samples_leaf=1, min_samples_split=2,\n",
       "           min_weight_fraction_leaf=0.0, n_estimators=10, n_jobs=1,\n",
       "           oob_score=True, random_state=0, verbose=0, warm_start=False)"
      ]
     },
     "execution_count": 52,
     "metadata": {},
     "output_type": "execute_result"
    }
   ],
   "source": [
    "rf = RandomForestRegressor(oob_score=True, random_state=0, max_features=0.33)\n",
    "rf.fit(X_train[predictors], y_train_t)"
   ]
  },
  {
   "cell_type": "markdown",
   "metadata": {},
   "source": [
    "### Plotting the Predictions ###"
   ]
  },
  {
   "cell_type": "code",
   "execution_count": 21,
   "metadata": {},
   "outputs": [
    {
     "data": {
      "text/plain": [
       "<matplotlib.axes._subplots.AxesSubplot at 0x7f0584042c88>"
      ]
     },
     "execution_count": 21,
     "metadata": {},
     "output_type": "execute_result"
    },
    {
     "data": {
      "image/png": "[encoded data removed]",
      "text/plain": [
       "<Figure size 432x288 with 1 Axes>"
      ]
     },
     "metadata": {},
     "output_type": "display_data"
    }
   ],
   "source": [
    "predicted = rf.predict(X_test[predictors])**2\n",
    "sns.regplot(y_test, predicted, fit_reg=False)"
   ]
  },
  {
   "cell_type": "code",
   "execution_count": 22,
   "metadata": {},
   "outputs": [
    {
     "name": "stdout",
     "output_type": "stream",
     "text": [
      "Training OOB error rate: 0.2907\n"
     ]
    }
   ],
   "source": [
    "print('Training OOB error rate: {0:0.4f}'.format(1 - rf.oob_score_))"
   ]
  },
  {
   "cell_type": "markdown",
   "metadata": {},
   "source": [
    "The performance of the Random Forest model is less than satisfactory. It is not a surprise though given the highly skewed response variable. I have read that in this case the problem becomes a mixture model, or, more practically, a classification. In an interview I would stop the modeling building process here and move on to variable importance. In a real-life project I would separate the data at the global median of `read_rate` and then treat them as two independent datasets for analysis. Note that using the global median, which is calculated based on both training and testing data, causes leakage and will impact model performance; I am not very concerned about the magnitude of this impact. "
   ]
  },
  {
   "cell_type": "code",
   "execution_count": 23,
   "metadata": {},
   "outputs": [
    {
     "name": "stdout",
     "output_type": "stream",
     "text": [
      "Feature importance:\n",
      "campaign_size = 0.0176\n",
      "unique_user_cnt = 0.0171\n",
      "avg_domain_read_rate = 0.2047\n",
      "avg_domain_inbox_rate = 0.0960\n",
      "avg_user_avg_read_rate = 0.1314\n",
      "avg_user_domain_avg_read_rate = 0.3743\n",
      "mb_superuser = 0.0307\n",
      "mb_engper = 0.0264\n",
      "mb_supersub = 0.0163\n",
      "mb_engsec = 0.0141\n",
      "mb_inper = 0.0080\n",
      "mb_insec = 0.0264\n",
      "mb_unengsec = 0.0136\n",
      "mb_idlesub = 0.0014\n",
      "br = 0.0004\n",
      "com = 0.0026\n",
      "edu = 0.0002\n",
      "gov = 0.0002\n",
      "info = 0.0003\n",
      "net = 0.0011\n",
      "org = 0.0009\n",
      "other = 0.0017\n",
      "Fri = 0.0020\n",
      "Mon = 0.0020\n",
      "Sat = 0.0021\n",
      "Sun = 0.0021\n",
      "Thurs = 0.0022\n",
      "Tues = 0.0021\n",
      "Wed = 0.0022\n",
      "\n",
      "\n",
      "Plotting feature importance:\n"
     ]
    },
    {
     "data": {
      "image/png": "[encoded data removed]",
      "text/plain": [
       "<Figure size 432x288 with 1 Axes>"
      ]
     },
     "metadata": {},
     "output_type": "display_data"
    }
   ],
   "source": [
    "print(\"Feature importance:\")\n",
    "for name, importance in zip(predictors, rf.feature_importances_):\n",
    "    print(name, \"=\", \"{0:0.4f}\".format(importance));\n",
    "print(\"\\n\")\n",
    "\n",
    "print(\"Plotting feature importance:\")\n",
    "importances = rf.feature_importances_\n",
    "indices = np.argsort(importances)[::-1]\n",
    "ax = sns.barplot(x=importances[indices], y=np.array(predictors)[indices])"
   ]
  },
  {
   "cell_type": "markdown",
   "metadata": {},
   "source": [
    "`avg_user_domain_avg_read_rate` is the most important predictor. Unfortunately none of the top 3 most important features is directly actionable. I would re-build the model without those features and then re-check variable importance. \n",
    "\n",
    "However, that `avg_domain_read_rate` is an important predictor tells us that carrying out the campaign on a domain with high average read rate might lead to a higher read rate for a particular campaign. It might appear that I have reversed the cause and the effect - it is possible that the \"successful\" domain only hosts high-quality campaigns and then those campaigns drive up the overall read rate of that domain, rather than that putting any campaign on a certain domain will magically increase the read rate. Having realized that, successful domains may have special optimization strategies to improve campaign performance. Domain knowledge (no pun intended) is required to understand the causal relationship. "
   ]
  },
  {
   "cell_type": "markdown",
   "metadata": {},
   "source": [
    "### Partial Dependence Plots ###"
   ]
  },
  {
   "cell_type": "code",
   "execution_count": 71,
   "metadata": {},
   "outputs": [
    {
     "data": {
      "image/png": "[encoded data removed]",
      "text/plain": [
       "<Figure size 1152x648 with 2 Axes>"
      ]
     },
     "metadata": {},
     "output_type": "display_data"
    }
   ],
   "source": [
    "pdp_plot(pdp_isolate(rf, X_train[predictors], 'campaign_size'), 'campaign size')\n",
    "plt.show()"
   ]
  },
  {
   "cell_type": "markdown",
   "metadata": {},
   "source": [
    "## Conclusions and Suggestions ##\n",
    "* Some domains are working better than others. We could implement campaigns on those domains to take advantage of such benefit. \n",
    "* Certain campaigns are more successful than other by far. Case reviews are helpful in such case. "
   ]
  },
  {
   "cell_type": "code",
   "execution_count": null,
   "metadata": {},
   "outputs": [],
   "source": []
  }
 ],
 "metadata": {
  "anaconda-cloud": {},
  "kernelspec": {
   "display_name": "Python 3",
   "language": "python",
   "name": "python3"
  },
  "language_info": {
   "codemirror_mode": {
    "name": "ipython",
    "version": 3
   },
   "file_extension": ".py",
   "mimetype": "text/x-python",
   "name": "python",
   "nbconvert_exporter": "python",
   "pygments_lexer": "ipython3",
   "version": "3.6.5"
  }
 },
 "nbformat": 4,
 "nbformat_minor": 1
}
